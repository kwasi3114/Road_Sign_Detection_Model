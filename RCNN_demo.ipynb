{
  "nbformat": 4,
  "nbformat_minor": 0,
  "metadata": {
    "colab": {
      "provenance": []
    },
    "kernelspec": {
      "name": "python3",
      "display_name": "Python 3"
    },
    "language_info": {
      "name": "python"
    }
  },
  "cells": [
    {
      "cell_type": "code",
      "source": [
        "# for this RCNN model, this tutorial was followed: https://towardsdatascience.com/step-by-step-r-cnn-implementation-from-scratch-in-python-e97101ccde55"
      ],
      "metadata": {
        "id": "1Bh6vHBYkge6"
      },
      "execution_count": null,
      "outputs": []
    },
    {
      "cell_type": "code",
      "execution_count": 2,
      "metadata": {
        "id": "M3ygpQnIThKc"
      },
      "outputs": [],
      "source": [
        "import os,cv2,keras\n",
        "import pandas as pd\n",
        "import matplotlib.pyplot as plt\n",
        "import numpy as np\n",
        "import tensorflow as tf"
      ]
    },
    {
      "cell_type": "code",
      "source": [
        "ss = cv2.ximgproc.segmentation.createSelectiveSearchSegmentation()"
      ],
      "metadata": {
        "id": "mDPfsmONCvQz"
      },
      "execution_count": 3,
      "outputs": []
    },
    {
      "cell_type": "code",
      "source": [
        "def get_iou(bb1, bb2):\n",
        "    assert bb1['x1'] < bb1['x2']\n",
        "    assert bb1['y1'] < bb1['y2']\n",
        "    assert bb2['x1'] < bb2['x2']\n",
        "    assert bb2['y1'] < bb2['y2']\n",
        "\n",
        "    x_left = max(bb1['x1'], bb2['x1'])\n",
        "    y_top = max(bb1['y1'], bb2['y1'])\n",
        "    x_right = min(bb1['x2'], bb2['x2'])\n",
        "    y_bottom = min(bb1['y2'], bb2['y2'])\n",
        "\n",
        "    if x_right < x_left or y_bottom < y_top:\n",
        "        return 0.0\n",
        "\n",
        "    intersection_area = (x_right - x_left) * (y_bottom - y_top)\n",
        "\n",
        "    bb1_area = (bb1['x2'] - bb1['x1']) * (bb1['y2'] - bb1['y1'])\n",
        "    bb2_area = (bb2['x2'] - bb2['x1']) * (bb2['y2'] - bb2['y1'])\n",
        "\n",
        "    iou = intersection_area / float(bb1_area + bb2_area - intersection_area)\n",
        "    assert iou >= 0.0\n",
        "    assert iou <= 1.0\n",
        "    return iou"
      ],
      "metadata": {
        "id": "2Y92lczbc1QB"
      },
      "execution_count": 4,
      "outputs": []
    },
    {
      "cell_type": "code",
      "source": [
        "train_images=[]\n",
        "train_labels=[]\n",
        "#train_images = r'/content/Airplane Images'\n",
        "#train_labels = r'/content/Airplane Annotations'\n",
        "path = r'/content/Airplane Images'\n",
        "annot = r'/content/Airplane Annotations'\n",
        "for e,i in enumerate(os.listdir(annot)):\n",
        "    try:\n",
        "        if i.startswith(\"airplane\"):\n",
        "            filename = i.split(\".\")[0]+\".jpg\"\n",
        "            print(e,filename)\n",
        "            image = cv2.imread(os.path.join(path,filename))\n",
        "            df = pd.read_csv(os.path.join(annot,i))\n",
        "            gtvalues=[]\n",
        "            for row in df.iterrows():\n",
        "                x1 = int(row[1][0].split(\" \")[0])\n",
        "                y1 = int(row[1][0].split(\" \")[1])\n",
        "                x2 = int(row[1][0].split(\" \")[2])\n",
        "                y2 = int(row[1][0].split(\" \")[3])\n",
        "                gtvalues.append({\"x1\":x1,\"x2\":x2,\"y1\":y1,\"y2\":y2})\n",
        "            ss.setBaseImage(image)\n",
        "            ss.switchToSelectiveSearchFast()\n",
        "            ssresults = ss.process()\n",
        "            imout = image.copy()\n",
        "            counter = 0\n",
        "            falsecounter = 0\n",
        "            flag = 0\n",
        "            fflag = 0\n",
        "            bflag = 0\n",
        "            for e,result in enumerate(ssresults):\n",
        "                if e < 2000 and flag == 0:\n",
        "                    for gtval in gtvalues:\n",
        "                        x,y,w,h = result\n",
        "                        iou = get_iou(gtval,{\"x1\":x,\"x2\":x+w,\"y1\":y,\"y2\":y+h})\n",
        "                        if counter < 30:\n",
        "                            if iou > 0.70:\n",
        "                                timage = imout[y:y+h,x:x+w]\n",
        "                                resized = cv2.resize(timage, (224,224), interpolation = cv2.INTER_AREA)\n",
        "                                train_images.append(resized)\n",
        "                                train_labels.append(1)\n",
        "                                counter += 1\n",
        "                        else :\n",
        "                            fflag =1\n",
        "                        if falsecounter <30:\n",
        "                            if iou < 0.3:\n",
        "                                timage = imout[y:y+h,x:x+w]\n",
        "                                resized = cv2.resize(timage, (224,224), interpolation = cv2.INTER_AREA)\n",
        "                                train_images.append(resized)\n",
        "                                train_labels.append(0)\n",
        "                                falsecounter += 1\n",
        "                        else :\n",
        "                            bflag = 1\n",
        "                    if fflag == 1 and bflag == 1:\n",
        "                        print(\"inside\")\n",
        "                        flag = 1\n",
        "    except Exception as e:\n",
        "        print(e)\n",
        "        print(\"error in \"+filename)\n",
        "        continue"
      ],
      "metadata": {
        "id": "OlTaYPZ3CyDg",
        "colab": {
          "base_uri": "https://localhost:8080/"
        },
        "outputId": "0db9e8a8-8251-49c7-95e5-32c9f1fd32ac"
      },
      "execution_count": 5,
      "outputs": [
        {
          "output_type": "stream",
          "name": "stdout",
          "text": [
            "0 airplane_002.jpg\n",
            "1 airplane_001.jpg\n",
            "inside\n",
            "2 airplane_007.jpg\n",
            "inside\n",
            "3 airplane_006.jpg\n",
            "4 airplane_008.jpg\n",
            "5 airplane_003.jpg\n",
            "6 airplane_009.jpg\n",
            "7 airplane_005.jpg\n",
            "inside\n",
            "8 airplane_010.jpg\n",
            "9 airplane_004.jpg\n",
            "inside\n"
          ]
        }
      ]
    },
    {
      "cell_type": "code",
      "source": [
        "X_new = np.array(train_images)\n",
        "y_new = np.array(train_labels)"
      ],
      "metadata": {
        "id": "KSBMN4LmC6fX"
      },
      "execution_count": 6,
      "outputs": []
    },
    {
      "cell_type": "code",
      "source": [
        "from keras.layers import Dense\n",
        "from keras import Model\n",
        "from keras import optimizers\n",
        "from keras.preprocessing.image import ImageDataGenerator\n",
        "from keras.optimizers import Adam\n",
        "from keras.applications.vgg16 import VGG16\n",
        "vggmodel = VGG16(weights='imagenet', include_top=True)"
      ],
      "metadata": {
        "id": "ReS4Q6YrC9wH"
      },
      "execution_count": 7,
      "outputs": []
    },
    {
      "cell_type": "code",
      "source": [
        "for layers in (vggmodel.layers)[:15]:\n",
        "    print(layers)\n",
        "    layers.trainable = False\n",
        "X= vggmodel.layers[-2].output\n",
        "predictions = Dense(2, activation=\"softmax\")(X)\n",
        "#model_final = Model(input = vggmodel.input, output = predictions)\n",
        "model_final = Model(vggmodel.input,predictions)\n",
        "opt = Adam(lr=0.0001)\n",
        "model_final.compile(loss = keras.losses.categorical_crossentropy, optimizer = opt, metrics=[\"accuracy\"])\n",
        "model_final.summary()"
      ],
      "metadata": {
        "id": "zzAnEQ7lC_gw",
        "colab": {
          "base_uri": "https://localhost:8080/"
        },
        "outputId": "464d075b-9dfa-40d5-bfa1-8369f4eac933"
      },
      "execution_count": 8,
      "outputs": [
        {
          "output_type": "stream",
          "name": "stdout",
          "text": [
            "<keras.engine.input_layer.InputLayer object at 0x7f8da88603d0>\n",
            "<keras.layers.convolutional.conv2d.Conv2D object at 0x7f8da87f8910>\n",
            "<keras.layers.convolutional.conv2d.Conv2D object at 0x7f8da7f02fd0>\n",
            "<keras.layers.pooling.max_pooling2d.MaxPooling2D object at 0x7f8da766b650>\n",
            "<keras.layers.convolutional.conv2d.Conv2D object at 0x7f8da3c98a10>\n",
            "<keras.layers.convolutional.conv2d.Conv2D object at 0x7f8da3c98110>\n",
            "<keras.layers.pooling.max_pooling2d.MaxPooling2D object at 0x7f8da3c88850>\n",
            "<keras.layers.convolutional.conv2d.Conv2D object at 0x7f8da3c2b4d0>\n",
            "<keras.layers.convolutional.conv2d.Conv2D object at 0x7f8da3c30610>\n",
            "<keras.layers.convolutional.conv2d.Conv2D object at 0x7f8da3c300d0>\n",
            "<keras.layers.pooling.max_pooling2d.MaxPooling2D object at 0x7f8da3ca7690>\n",
            "<keras.layers.convolutional.conv2d.Conv2D object at 0x7f8da3c40950>\n",
            "<keras.layers.convolutional.conv2d.Conv2D object at 0x7f8da3c3a150>\n",
            "<keras.layers.convolutional.conv2d.Conv2D object at 0x7f8da3c3a310>\n",
            "<keras.layers.pooling.max_pooling2d.MaxPooling2D object at 0x7f8da3c580d0>\n",
            "Model: \"model\"\n",
            "_________________________________________________________________\n",
            " Layer (type)                Output Shape              Param #   \n",
            "=================================================================\n",
            " input_1 (InputLayer)        [(None, 224, 224, 3)]     0         \n",
            "                                                                 \n",
            " block1_conv1 (Conv2D)       (None, 224, 224, 64)      1792      \n",
            "                                                                 \n",
            " block1_conv2 (Conv2D)       (None, 224, 224, 64)      36928     \n",
            "                                                                 \n",
            " block1_pool (MaxPooling2D)  (None, 112, 112, 64)      0         \n",
            "                                                                 \n",
            " block2_conv1 (Conv2D)       (None, 112, 112, 128)     73856     \n",
            "                                                                 \n",
            " block2_conv2 (Conv2D)       (None, 112, 112, 128)     147584    \n",
            "                                                                 \n",
            " block2_pool (MaxPooling2D)  (None, 56, 56, 128)       0         \n",
            "                                                                 \n",
            " block3_conv1 (Conv2D)       (None, 56, 56, 256)       295168    \n",
            "                                                                 \n",
            " block3_conv2 (Conv2D)       (None, 56, 56, 256)       590080    \n",
            "                                                                 \n",
            " block3_conv3 (Conv2D)       (None, 56, 56, 256)       590080    \n",
            "                                                                 \n",
            " block3_pool (MaxPooling2D)  (None, 28, 28, 256)       0         \n",
            "                                                                 \n",
            " block4_conv1 (Conv2D)       (None, 28, 28, 512)       1180160   \n",
            "                                                                 \n",
            " block4_conv2 (Conv2D)       (None, 28, 28, 512)       2359808   \n",
            "                                                                 \n",
            " block4_conv3 (Conv2D)       (None, 28, 28, 512)       2359808   \n",
            "                                                                 \n",
            " block4_pool (MaxPooling2D)  (None, 14, 14, 512)       0         \n",
            "                                                                 \n",
            " block5_conv1 (Conv2D)       (None, 14, 14, 512)       2359808   \n",
            "                                                                 \n",
            " block5_conv2 (Conv2D)       (None, 14, 14, 512)       2359808   \n",
            "                                                                 \n",
            " block5_conv3 (Conv2D)       (None, 14, 14, 512)       2359808   \n",
            "                                                                 \n",
            " block5_pool (MaxPooling2D)  (None, 7, 7, 512)         0         \n",
            "                                                                 \n",
            " flatten (Flatten)           (None, 25088)             0         \n",
            "                                                                 \n",
            " fc1 (Dense)                 (None, 4096)              102764544 \n",
            "                                                                 \n",
            " fc2 (Dense)                 (None, 4096)              16781312  \n",
            "                                                                 \n",
            " dense (Dense)               (None, 2)                 8194      \n",
            "                                                                 \n",
            "=================================================================\n",
            "Total params: 134,268,738\n",
            "Trainable params: 126,633,474\n",
            "Non-trainable params: 7,635,264\n",
            "_________________________________________________________________\n"
          ]
        },
        {
          "output_type": "stream",
          "name": "stderr",
          "text": [
            "/usr/local/lib/python3.7/dist-packages/keras/optimizers/optimizer_v2/adam.py:110: UserWarning: The `lr` argument is deprecated, use `learning_rate` instead.\n",
            "  super(Adam, self).__init__(name, **kwargs)\n"
          ]
        }
      ]
    },
    {
      "cell_type": "code",
      "source": [
        "from sklearn.model_selection import train_test_split\n",
        "from sklearn.preprocessing import LabelBinarizer\n",
        "class MyLabelBinarizer(LabelBinarizer):\n",
        "    def transform(self, y):\n",
        "        Y = super().transform(y)\n",
        "        if self.y_type_ == 'binary':\n",
        "            return np.hstack((Y, 1-Y))\n",
        "        else:\n",
        "            return Y\n",
        "    def inverse_transform(self, Y, threshold=None):\n",
        "        if self.y_type_ == 'binary':\n",
        "            return super().inverse_transform(Y[:, 0], threshold)\n",
        "        else:\n",
        "            return super().inverse_transform(Y, threshold)\n",
        "lenc = MyLabelBinarizer()\n",
        "Y =  lenc.fit_transform(y_new)\n",
        "X_train, X_test , y_train, y_test = train_test_split(X_new,Y,test_size=0.10)"
      ],
      "metadata": {
        "id": "uJql1uUsDBJh"
      },
      "execution_count": 9,
      "outputs": []
    },
    {
      "cell_type": "code",
      "source": [
        "trdata = ImageDataGenerator(horizontal_flip=True, vertical_flip=True, rotation_range=90)\n",
        "traindata = trdata.flow(x=X_train, y=y_train)\n",
        "tsdata = ImageDataGenerator(horizontal_flip=True, vertical_flip=True, rotation_range=90)\n",
        "testdata = tsdata.flow(x=X_test, y=y_test)"
      ],
      "metadata": {
        "id": "a7V5nG0tDEAh"
      },
      "execution_count": 10,
      "outputs": []
    },
    {
      "cell_type": "code",
      "source": [
        "from keras.callbacks import ModelCheckpoint, EarlyStopping\n",
        "checkpoint = ModelCheckpoint(\"ieeercnn_vgg16_1.h5\", monitor='val_loss', verbose=1, save_best_only=True, save_weights_only=False, mode='auto', period=1)\n",
        "early = EarlyStopping(monitor='val_loss', min_delta=0, patience=100, verbose=1, mode='auto')\n",
        "hist = model_final.fit_generator(generator= traindata, steps_per_epoch= 1, epochs= 10, validation_data= testdata, validation_steps=2, callbacks=[checkpoint,early])"
      ],
      "metadata": {
        "id": "9Wz6FBJmDH7u",
        "colab": {
          "base_uri": "https://localhost:8080/"
        },
        "outputId": "88e9a36a-5da2-4df1-9e61-e7c367941308"
      },
      "execution_count": 11,
      "outputs": [
        {
          "output_type": "stream",
          "name": "stderr",
          "text": [
            "WARNING:tensorflow:`period` argument is deprecated. Please use `save_freq` to specify the frequency in number of batches seen.\n",
            "/usr/local/lib/python3.7/dist-packages/ipykernel_launcher.py:4: UserWarning: `Model.fit_generator` is deprecated and will be removed in a future version. Please use `Model.fit`, which supports generators.\n",
            "  after removing the cwd from sys.path.\n"
          ]
        },
        {
          "output_type": "stream",
          "name": "stdout",
          "text": [
            "Epoch 1/10\n",
            "1/1 [==============================] - ETA: 0s - loss: 1.3668 - accuracy: 0.2188\n",
            "Epoch 1: val_loss improved from inf to 1.26434, saving model to ieeercnn_vgg16_1.h5\n",
            "1/1 [==============================] - 57s 57s/step - loss: 1.3668 - accuracy: 0.2188 - val_loss: 1.2643 - val_accuracy: 0.8298\n",
            "Epoch 2/10\n",
            "1/1 [==============================] - ETA: 0s - loss: 1.7161 - accuracy: 0.7812\n",
            "Epoch 2: val_loss improved from 1.26434 to 1.18807, saving model to ieeercnn_vgg16_1.h5\n",
            "1/1 [==============================] - 53s 53s/step - loss: 1.7161 - accuracy: 0.7812 - val_loss: 1.1881 - val_accuracy: 0.8511\n",
            "Epoch 3/10\n",
            "1/1 [==============================] - ETA: 0s - loss: 6.7199 - accuracy: 0.5000\n",
            "Epoch 3: val_loss improved from 1.18807 to 0.69916, saving model to ieeercnn_vgg16_1.h5\n",
            "1/1 [==============================] - 35s 35s/step - loss: 6.7199 - accuracy: 0.5000 - val_loss: 0.6992 - val_accuracy: 0.8723\n",
            "Epoch 4/10\n",
            "1/1 [==============================] - ETA: 0s - loss: 0.4980 - accuracy: 0.8750\n",
            "Epoch 4: val_loss improved from 0.69916 to 0.46787, saving model to ieeercnn_vgg16_1.h5\n",
            "1/1 [==============================] - 53s 53s/step - loss: 0.4980 - accuracy: 0.8750 - val_loss: 0.4679 - val_accuracy: 0.7660\n",
            "Epoch 5/10\n",
            "1/1 [==============================] - ETA: 0s - loss: 3.5476e-04 - accuracy: 1.0000\n",
            "Epoch 5: val_loss did not improve from 0.46787\n",
            "1/1 [==============================] - 28s 28s/step - loss: 3.5476e-04 - accuracy: 1.0000 - val_loss: 0.7271 - val_accuracy: 0.7660\n",
            "Epoch 6/10\n",
            "1/1 [==============================] - ETA: 0s - loss: 0.9485 - accuracy: 0.5312\n",
            "Epoch 6: val_loss did not improve from 0.46787\n",
            "1/1 [==============================] - 50s 50s/step - loss: 0.9485 - accuracy: 0.5312 - val_loss: 0.4980 - val_accuracy: 0.8298\n",
            "Epoch 7/10\n",
            "1/1 [==============================] - ETA: 0s - loss: 0.7449 - accuracy: 0.7188\n",
            "Epoch 7: val_loss improved from 0.46787 to 0.23797, saving model to ieeercnn_vgg16_1.h5\n",
            "1/1 [==============================] - 55s 55s/step - loss: 0.7449 - accuracy: 0.7188 - val_loss: 0.2380 - val_accuracy: 0.8723\n",
            "Epoch 8/10\n",
            "1/1 [==============================] - ETA: 0s - loss: 1.0254 - accuracy: 0.6250\n",
            "Epoch 8: val_loss did not improve from 0.23797\n",
            "1/1 [==============================] - 47s 47s/step - loss: 1.0254 - accuracy: 0.6250 - val_loss: 0.3714 - val_accuracy: 0.8511\n",
            "Epoch 9/10\n",
            "1/1 [==============================] - ETA: 0s - loss: 0.4328 - accuracy: 0.8750\n",
            "Epoch 9: val_loss did not improve from 0.23797\n",
            "1/1 [==============================] - 48s 48s/step - loss: 0.4328 - accuracy: 0.8750 - val_loss: 0.3633 - val_accuracy: 0.8936\n",
            "Epoch 10/10\n",
            "1/1 [==============================] - ETA: 0s - loss: 0.5272 - accuracy: 0.8125\n",
            "Epoch 10: val_loss did not improve from 0.23797\n",
            "1/1 [==============================] - 47s 47s/step - loss: 0.5272 - accuracy: 0.8125 - val_loss: 0.2919 - val_accuracy: 0.8298\n"
          ]
        }
      ]
    },
    {
      "cell_type": "code",
      "source": [
        "z=0\n",
        "for e,i in enumerate(os.listdir(path)):\n",
        "    if i.startswith(\"4\"):\n",
        "        z += 1\n",
        "        img = cv2.imread(os.path.join(path,i))\n",
        "        ss.setBaseImage(img)\n",
        "        ss.switchToSelectiveSearchFast()\n",
        "        ssresults = ss.process()\n",
        "        imout = img.copy()\n",
        "        for e,result in enumerate(ssresults):\n",
        "            if e < 2000:\n",
        "                x,y,w,h = result\n",
        "                timage = imout[y:y+h,x:x+w]\n",
        "                resized = cv2.resize(timage, (224,224), interpolation = cv2.INTER_AREA)\n",
        "                img = np.expand_dims(resized, axis=0)\n",
        "                out= model_final.predict(img)\n",
        "                if out[0][0] > 0.70:\n",
        "                    cv2.rectangle(imout, (x, y), (x+w, y+h), (0, 255, 0), 1, cv2.LINE_AA)\n",
        "        plt.figure()\n",
        "        plt.imshow(imout)\n",
        "        break"
      ],
      "metadata": {
        "id": "5MtRV5FYDKeH"
      },
      "execution_count": 12,
      "outputs": []
    },
    {
      "cell_type": "code",
      "source": [
        "#graphs the accuracies of the training done above`\n",
        "epochs = np.array([1,2,3,4,5,6,7,8,9,10])\n",
        "accuracies = np.array([0.2188,0.7812,0.5,0.8750, 1, 0.5312, 0.7188, 0.625, 0.875, 0.8125])\n",
        "#above is the accuracies for my most recent test\n",
        "\n",
        "plt.plot(epochs, accuracies)\n",
        "plt.show"
      ],
      "metadata": {
        "id": "roJJXlSbDK9H",
        "colab": {
          "base_uri": "https://localhost:8080/",
          "height": 282
        },
        "outputId": "77a7979d-276c-4b6f-a735-f6b0f637b406"
      },
      "execution_count": 13,
      "outputs": [
        {
          "output_type": "execute_result",
          "data": {
            "text/plain": [
              "<function matplotlib.pyplot.show(*args, **kw)>"
            ]
          },
          "metadata": {},
          "execution_count": 13
        },
        {
          "output_type": "display_data",
          "data": {
            "text/plain": [
              "<Figure size 432x288 with 1 Axes>"
            ],
            "image/png": "[encoded data removed]"
          },
          "metadata": {
            "needs_background": "light"
          }
        }
      ]
    },
    {
      "cell_type": "markdown",
      "source": [
        "For my implementation, I decided to take a deper look into RCNN. To put it simply, RCNN is an extension of the standard CNN. RCNN has been improved on from the base CNN model in order to handle tasks in object detection, while the base CNN is more suited for image classification. For this particular implementation, I used a dataset to detect whether an airplane was in the image or not. \n",
        "\n",
        "The main metric I am using to measure success of the implementation is accuracy. I believe that an accuracy of at least .95 is required for something that would be implemented in actuality. The main reason the accuracy for my particular implementation was so low overall was due to me drastically scaling back the training for the sake of time. If I had actually used the full dataset and much more epochs, I am sure the accuracy would have met the benchmark of 0.95 at least. \n",
        "\n",
        "Like I mentioned above, in terms of improvements, the main thing I would do is a much more thorough training of the data. Another idea that comes to mind would be using images as varied as possible in order to help with any potential edge cases encountered in the process. I believe these two changes would greatly benefit the effectiveness of this model. \n"
      ],
      "metadata": {
        "id": "jG9PfzdefTlN"
      }
    }
  ]
}